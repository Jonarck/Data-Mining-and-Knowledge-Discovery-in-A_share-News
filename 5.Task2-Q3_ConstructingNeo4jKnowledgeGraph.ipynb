{
 "cells": [
  {
   "cell_type": "markdown",
   "id": "89175b1a",
   "metadata": {},
   "source": [
    "# DSAA 5002 - Data Mining and Knowledge Discovery in Data Science\n",
    "---"
   ]
  },
  {
   "cell_type": "markdown",
   "id": "1b95e3fb",
   "metadata": {},
   "source": [
    "# Task 2 (50 marks) Application of Knowledge Graph\n",
    "\n",
    "**Background:** \n",
    "**In addition to explicitly mentioning listed companies, each news article may also implicitly impact the other \n",
    "companies, either positively or negatively.**"
   ]
  },
  {
   "cell_type": "markdown",
   "id": "ea9c7979",
   "metadata": {},
   "source": [
    "# Q3 Constructing a Knowledge Graph\n",
    "---\n",
    "\n",
    "## 1. Neo4j Setting"
   ]
  },
  {
   "cell_type": "code",
   "execution_count": 41,
   "id": "91aa06be",
   "metadata": {},
   "outputs": [],
   "source": [
    "from py2neo import Graph, Node, Relationship\n",
    "import csv\n",
    "from tqdm import tqdm\n",
    "\n",
    "# Neo4j database connection information\n",
    "uri = \"http://localhost:7474\"  # Neo4j database address\n",
    "username = \"neo4j\"  # Neo4j database username\n",
    "password = \"zhuoyang200101\"  # Neo4j database password\n",
    "\n",
    "# Connect to the Neo4j database\n",
    "graph = Graph(uri, auth=(username, password))"
   ]
  },
  {
   "cell_type": "markdown",
   "id": "b3ee0094",
   "metadata": {},
   "source": [
    "## 2. From Table to Graph"
   ]
  },
  {
   "cell_type": "code",
   "execution_count": 44,
   "id": "5fa2e8cd",
   "metadata": {},
   "outputs": [],
   "source": [
    "# Loading node information from a CSV file into the Neo4j database\n",
    "def load_nodes(file_path):\n",
    "    with open(file_path, 'r', encoding='utf-8') as csvfile:\n",
    "        reader = csv.DictReader(csvfile)\n",
    "        rows = list(reader)  # Convert reader to a list\n",
    "        for row in tqdm(rows, desc=\"Loading nodes\"):  # Display progress bar with tqdm\n",
    "            node_properties = {\n",
    "                'ID': row[':ID'],\n",
    "                'company_name': row['company_name'],\n",
    "                'code': row['code']\n",
    "            }\n",
    "            node = Node('company', **node_properties)\n",
    "            graph.create(node)\n",
    "\n",
    "# Loading relationship information from a CSV file into the Neo4j database\n",
    "def load_relationships(file_path, rel_type):\n",
    "    with open(file_path, 'r', encoding='utf-8') as csvfile:\n",
    "        reader = csv.DictReader(csvfile) \n",
    "        rows = list(reader)\n",
    "        for row in tqdm(rows, desc=f\"Loading {rel_type} relationships\"):\n",
    "            start_node = graph.nodes.match(ID=row[':START_ID']).first()\n",
    "            end_node = graph.nodes.match(ID=row[':END_ID']).first()\n",
    "            \n",
    "            # Check if 'time' column exists for the current relation type\n",
    "            if 'time' in row:\n",
    "                rel_properties = {\n",
    "                    'time': row['time']  # Use the value in the 'time' column as a relationship property\n",
    "                }\n",
    "            else:\n",
    "                rel_properties = {}  # If there is no 'time' column, create an empty property dictionary\n",
    "            \n",
    "            # For bidirectional relationships\n",
    "            if rel_type in ['compete', 'cooperate', 'dispute', 'same_industry']:\n",
    "                rel = Relationship(start_node, rel_type, end_node, **rel_properties)\n",
    "                graph.create(rel)\n",
    "                rel_reverse = Relationship(end_node, rel_type, start_node, **rel_properties)  # Add a reverse relationship\n",
    "                graph.create(rel_reverse)\n",
    "            # For unidirectional relationships\n",
    "            elif rel_type in ['invest', 'supply']:\n",
    "                rel = Relationship(start_node, rel_type, end_node, **rel_properties)\n",
    "                graph.create(rel)\n"
   ]
  },
  {
   "cell_type": "markdown",
   "id": "8d781e57",
   "metadata": {},
   "source": [
    "### 2.1 Load the NODE's Information"
   ]
  },
  {
   "cell_type": "code",
   "execution_count": 38,
   "id": "1a0c4904",
   "metadata": {},
   "outputs": [
    {
     "name": "stderr",
     "output_type": "stream",
     "text": [
      "Loading nodes: 100%|██████████████████████████████████████████████████████████████| 3974/3974 [00:15<00:00, 259.00it/s]"
     ]
    },
    {
     "name": "stdout",
     "output_type": "stream",
     "text": [
      "Nodes import completed\n"
     ]
    },
    {
     "name": "stderr",
     "output_type": "stream",
     "text": [
      "\n"
     ]
    }
   ],
   "source": [
    "# Load the NODE's Information\n",
    "load_nodes('KnowledgeGraph/hidy.nodes.company.csv')\n",
    "print(\"Nodes import completed\")"
   ]
  },
  {
   "cell_type": "markdown",
   "id": "ca8e2889",
   "metadata": {},
   "source": [
    "### 2.2 Load the Relationships's Information"
   ]
  },
  {
   "cell_type": "code",
   "execution_count": 45,
   "id": "e90f6e41",
   "metadata": {},
   "outputs": [
    {
     "name": "stderr",
     "output_type": "stream",
     "text": [
      "Loading compete relationships: 100%|███████████████████████████████████████████████████| 25/25 [00:00<00:00, 80.96it/s]\n",
      "Loading cooperate relationships: 100%|█████████████████████████████████████████████| 3603/3603 [00:45<00:00, 79.36it/s]\n",
      "Loading dispute relationships: 100%|█████████████████████████████████████████████████| 439/439 [00:05<00:00, 82.44it/s]\n",
      "Loading invest relationships: 100%|██████████████████████████████████████████████████| 559/559 [00:05<00:00, 98.45it/s]\n",
      "Loading same_industry relationships: 100%|█████████████████████████████████████████| 5596/5596 [01:18<00:00, 71.33it/s]\n",
      "Loading supply relationships: 100%|███████████████████████████████████████████████| 1444/1444 [00:14<00:00, 101.56it/s]"
     ]
    },
    {
     "name": "stdout",
     "output_type": "stream",
     "text": [
      "Relationships import completed\n"
     ]
    },
    {
     "name": "stderr",
     "output_type": "stream",
     "text": [
      "\n"
     ]
    }
   ],
   "source": [
    "# Load the Relationships's Information\n",
    "relationship_files = {\n",
    "    'compete': 'KnowledgeGraph/hidy.relationships.compete.csv',\n",
    "    'cooperate': 'KnowledgeGraph/hidy.relationships.cooperate.csv',\n",
    "    'dispute': 'KnowledgeGraph/hidy.relationships.dispute.csv',\n",
    "    'invest': 'KnowledgeGraph/hidy.relationships.invest.csv',\n",
    "    'same_industry': 'nowledgeGraph/hidy.relationships.same_industry.csv',\n",
    "    'supply': 'KnowledgeGraph/hidy.relationships.supply.csv'\n",
    "}\n",
    "\n",
    "for rel_type, file_path in relationship_files.items():\n",
    "    load_relationships(file_path, rel_type)\n",
    "    \n",
    "print(\"Relationships import completed\")"
   ]
  }
 ],
 "metadata": {
  "kernelspec": {
   "display_name": "Python 3 (ipykernel)",
   "language": "python",
   "name": "python3"
  },
  "language_info": {
   "codemirror_mode": {
    "name": "ipython",
    "version": 3
   },
   "file_extension": ".py",
   "mimetype": "text/x-python",
   "name": "python",
   "nbconvert_exporter": "python",
   "pygments_lexer": "ipython3",
   "version": "3.11.4"
  }
 },
 "nbformat": 4,
 "nbformat_minor": 5
}
