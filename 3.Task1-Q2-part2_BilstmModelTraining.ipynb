{
 "cells": [
  {
   "cell_type": "markdown",
   "id": "bfe245d1",
   "metadata": {},
   "source": [
    "# DSAA 5002 - Data Mining and Knowledge Discovery in Data Science\n",
    "---"
   ]
  },
  {
   "cell_type": "markdown",
   "id": "47194009",
   "metadata": {},
   "source": [
    "# Task 1 (50 marks) Data Preprocessing and Analysis\n",
    "\n",
    "**Background:** \n",
    "**Assuming you are a sentiment analyst at a securities firm, your task is to assess the impact of each news article on the A-share listed companies explicitly mentioned.**"
   ]
  },
  {
   "cell_type": "markdown",
   "id": "ad437ff4",
   "metadata": {},
   "source": [
    "# Q2. Data Analysis - Text Knowledge Mining\n",
    "\n",
    "# part2- BiLSTM-based Sentiment Analyse Model Training\n",
    "\n",
    "---\n",
    "## 1. Model Training"
   ]
  },
  {
   "cell_type": "code",
   "execution_count": 2,
   "id": "33025331",
   "metadata": {},
   "outputs": [
    {
     "name": "stderr",
     "output_type": "stream",
     "text": [
      "D:\\Anaconda\\envs\\python3.8_torch2.1\\lib\\site-packages\\bitsandbytes\\cextension.py:34: UserWarning: The installed version of bitsandbytes was compiled without GPU support. 8-bit optimizers, 8-bit multiplication, and GPU quantization are unavailable.\n",
      "  warn(\"The installed version of bitsandbytes was compiled without GPU support. \"\n"
     ]
    },
    {
     "name": "stdout",
     "output_type": "stream",
     "text": [
      "'NoneType' object has no attribute 'cadam32bit_grad_fp32'\n"
     ]
    }
   ],
   "source": [
    "import torch\n",
    "import torch.nn as nn\n",
    "import torch.optim as optim\n",
    "from torch.utils.data import DataLoader\n",
    "from tqdm import tqdm\n",
    "import pandas as pd\n",
    "from sklearn.model_selection import train_test_split\n",
    "\n",
    "import pandas as pd\n",
    "import torch\n",
    "from torch.utils.data import Dataset, DataLoader\n",
    "from transformers import BertTokenizer, BertForSequenceClassification, AdamW\n",
    "from tqdm import tqdm\n",
    "import warnings\n",
    "warnings.filterwarnings(\"ignore\", category=UserWarning)\n",
    "warnings.filterwarnings(\"ignore\", category=pd.errors.SettingWithCopyWarning)\n",
    "warnings.filterwarnings(\"ignore\", category=FutureWarning)"
   ]
  },
  {
   "cell_type": "code",
   "execution_count": 3,
   "id": "13dc0a60",
   "metadata": {},
   "outputs": [],
   "source": [
    "# Set the paths and file names\n",
    "data_path = 'Training_dataset/Training_set_with_final_annotation.xlsx'\n",
    "model_path = 'bert-base-chinese'\n",
    "output_model_path = 'model\\\\bilstm_model_v1.bin'\n",
    "\n",
    "# Load the dataset\n",
    "df = pd.read_excel(data_path)\n",
    "news = df['News'].tolist()\n",
    "labels = df['Final_Sentiment'].tolist()\n",
    "\n",
    "from sklearn.model_selection import train_test_split\n",
    "# Split the dataset into training and testing sets\n",
    "train_news, test_news, train_labels, test_labels = train_test_split(news, labels, test_size=0.1, random_state=42)"
   ]
  },
  {
   "cell_type": "code",
   "execution_count": 4,
   "id": "16647f7b",
   "metadata": {},
   "outputs": [],
   "source": [
    "# Define the dataset\n",
    "class NewsDataset(Dataset):\n",
    "    def __init__(self, news, labels, tokenizer):\n",
    "        self.news = news\n",
    "        self.labels = labels\n",
    "        self.tokenizer = tokenizer\n",
    "    \n",
    "    def __len__(self):\n",
    "        return len(self.news)\n",
    "    \n",
    "    def __getitem__(self, idx):\n",
    "        text = self.news[idx]\n",
    "        label = self.labels[idx]\n",
    "        \n",
    "        encoding = self.tokenizer.encode_plus(\n",
    "            text,\n",
    "            add_special_tokens=True,\n",
    "            max_length=640,\n",
    "            padding='max_length',\n",
    "            truncation=True,\n",
    "            return_tensors='pt'\n",
    "        )\n",
    "        \n",
    "        return {\n",
    "            'input_ids': encoding['input_ids'].flatten(),\n",
    "            'attention_mask': encoding['attention_mask'].flatten(),\n",
    "            'labels': torch.tensor(label, dtype=torch.long)\n",
    "        }"
   ]
  },
  {
   "cell_type": "code",
   "execution_count": 5,
   "id": "16b5afa5",
   "metadata": {},
   "outputs": [],
   "source": [
    "# Define the BiLSTM Model\n",
    "class BiLSTM(nn.Module):\n",
    "    def __init__(self, input_dim, hidden_dim, output_dim, dropout):\n",
    "        super(BiLSTM, self).__init__()\n",
    "        self.embedding = nn.Embedding(input_dim, hidden_dim)\n",
    "        self.lstm = nn.LSTM(hidden_dim, hidden_dim, bidirectional=True, batch_first=True)\n",
    "        self.fc = nn.Linear(hidden_dim * 2, output_dim)\n",
    "        self.dropout = nn.Dropout(dropout)\n",
    "\n",
    "    def forward(self, text):\n",
    "        embedded = self.dropout(self.embedding(text))\n",
    "        output, _ = self.lstm(embedded)\n",
    "        hidden = torch.cat((output[:, -1, :hidden_dim], output[:, 0, hidden_dim:]), dim=1)\n",
    "        return self.fc(hidden)"
   ]
  },
  {
   "cell_type": "code",
   "execution_count": 9,
   "id": "5e1a499e",
   "metadata": {},
   "outputs": [],
   "source": [
    "# Create the training dataset\n",
    "tokenizer = BertTokenizer.from_pretrained(model_path)\n",
    "train_dataset = NewsDataset(train_news, train_labels, tokenizer)\n",
    "train_labels = torch.tensor(train_labels)  \n",
    "\n",
    "# Set the para\n",
    "input_dim = tokenizer.vocab_size\n",
    "hidden_dim = 128\n",
    "output_dim = 2  \n",
    "dropout = 0.1"
   ]
  },
  {
   "cell_type": "code",
   "execution_count": 15,
   "id": "c69a63d5",
   "metadata": {
    "scrolled": true
   },
   "outputs": [
    {
     "name": "stderr",
     "output_type": "stream",
     "text": [
      "                                                                                                                       \r"
     ]
    },
    {
     "name": "stdout",
     "output_type": "stream",
     "text": [
      "Epoch 49/64 - Average Loss: 0.0827\n"
     ]
    },
    {
     "name": "stderr",
     "output_type": "stream",
     "text": [
      "                                                                                                                       \r"
     ]
    },
    {
     "name": "stdout",
     "output_type": "stream",
     "text": [
      "Epoch 50/64 - Average Loss: 0.0823\n"
     ]
    },
    {
     "name": "stderr",
     "output_type": "stream",
     "text": [
      "                                                                                                                       \r"
     ]
    },
    {
     "name": "stdout",
     "output_type": "stream",
     "text": [
      "Epoch 51/64 - Average Loss: 0.0792\n"
     ]
    },
    {
     "name": "stderr",
     "output_type": "stream",
     "text": [
      "                                                                                                                       \r"
     ]
    },
    {
     "name": "stdout",
     "output_type": "stream",
     "text": [
      "Epoch 52/64 - Average Loss: 0.0739\n"
     ]
    },
    {
     "name": "stderr",
     "output_type": "stream",
     "text": [
      "                                                                                                                       \r"
     ]
    },
    {
     "name": "stdout",
     "output_type": "stream",
     "text": [
      "Epoch 53/64 - Average Loss: 0.0709\n"
     ]
    },
    {
     "name": "stderr",
     "output_type": "stream",
     "text": [
      "                                                                                                                       \r"
     ]
    },
    {
     "name": "stdout",
     "output_type": "stream",
     "text": [
      "Epoch 54/64 - Average Loss: 0.0729\n"
     ]
    },
    {
     "name": "stderr",
     "output_type": "stream",
     "text": [
      "                                                                                                                       \r"
     ]
    },
    {
     "name": "stdout",
     "output_type": "stream",
     "text": [
      "Epoch 55/64 - Average Loss: 0.0671\n"
     ]
    },
    {
     "name": "stderr",
     "output_type": "stream",
     "text": [
      "                                                                                                                       \r"
     ]
    },
    {
     "name": "stdout",
     "output_type": "stream",
     "text": [
      "Epoch 56/64 - Average Loss: 0.0672\n"
     ]
    },
    {
     "name": "stderr",
     "output_type": "stream",
     "text": [
      "                                                                                                                       \r"
     ]
    },
    {
     "name": "stdout",
     "output_type": "stream",
     "text": [
      "Epoch 57/64 - Average Loss: 0.0627\n"
     ]
    },
    {
     "name": "stderr",
     "output_type": "stream",
     "text": [
      "                                                                                                                       \r"
     ]
    },
    {
     "name": "stdout",
     "output_type": "stream",
     "text": [
      "Epoch 58/64 - Average Loss: 0.0645\n"
     ]
    },
    {
     "name": "stderr",
     "output_type": "stream",
     "text": [
      "                                                                                                                       \r"
     ]
    },
    {
     "name": "stdout",
     "output_type": "stream",
     "text": [
      "Epoch 59/64 - Average Loss: 0.0597\n"
     ]
    },
    {
     "name": "stderr",
     "output_type": "stream",
     "text": [
      "                                                                                                                       \r"
     ]
    },
    {
     "name": "stdout",
     "output_type": "stream",
     "text": [
      "Epoch 60/64 - Average Loss: 0.0568\n"
     ]
    },
    {
     "name": "stderr",
     "output_type": "stream",
     "text": [
      "                                                                                                                       \r"
     ]
    },
    {
     "name": "stdout",
     "output_type": "stream",
     "text": [
      "Epoch 61/64 - Average Loss: 0.0550\n"
     ]
    },
    {
     "name": "stderr",
     "output_type": "stream",
     "text": [
      "                                                                                                                       \r"
     ]
    },
    {
     "name": "stdout",
     "output_type": "stream",
     "text": [
      "Epoch 62/64 - Average Loss: 0.0551\n"
     ]
    },
    {
     "name": "stderr",
     "output_type": "stream",
     "text": [
      "                                                                                                                       \r"
     ]
    },
    {
     "name": "stdout",
     "output_type": "stream",
     "text": [
      "Epoch 63/64 - Average Loss: 0.0524\n"
     ]
    },
    {
     "name": "stderr",
     "output_type": "stream",
     "text": [
      "                                                                                                                       "
     ]
    },
    {
     "name": "stdout",
     "output_type": "stream",
     "text": [
      "Epoch 64/64 - Average Loss: 0.0538\n"
     ]
    },
    {
     "name": "stderr",
     "output_type": "stream",
     "text": [
      "\r"
     ]
    }
   ],
   "source": [
    "# Initialize the BiLSTM model\n",
    "model = BiLSTM(input_dim, hidden_dim, output_dim, dropout)\n",
    "model.load_state_dict(torch.load(output_model_path))\n",
    "\n",
    "# Move the model to the device (GPU or CPU)\n",
    "# Define training parameters\n",
    "batch_size = 64\n",
    "lr = 2e-4\n",
    "epochs = 64\n",
    "\n",
    "# Define optimizer and loss function\n",
    "optimizer = optim.Adam(model.parameters(), lr=lr)\n",
    "loss_fn = nn.CrossEntropyLoss()\n",
    "\n",
    "# Create data loaders\n",
    "train_loader = DataLoader(train_dataset, batch_size=batch_size, shuffle=True)\n",
    "\n",
    "# Train the model\n",
    "model.train()\n",
    "for epoch in range(epochs):\n",
    "    total_loss = 0\n",
    "    progress_bar = tqdm(train_loader, desc=f'Epoch {epoch+1+48}/{epochs+48}', leave=False)\n",
    "\n",
    "    for batch in progress_bar:\n",
    "        input_ids = batch['input_ids']\n",
    "        labels = batch['labels']\n",
    "\n",
    "        optimizer.zero_grad()\n",
    "        outputs = model(input_ids)\n",
    "        loss = loss_fn(outputs, labels)\n",
    "        loss.backward()\n",
    "        optimizer.step()\n",
    "\n",
    "        total_loss += loss.item()\n",
    "        progress_bar.set_postfix({'loss': loss.item()})\n",
    "    \n",
    "    avg_loss = total_loss / len(train_loader)\n",
    "    print(f'Epoch {epoch+1+48}/{epochs+48} - Average Loss: {avg_loss:.4f}')\n",
    "\n",
    "    # Save the model\n",
    "    torch.save(model.state_dict(), output_model_path)"
   ]
  },
  {
   "cell_type": "markdown",
   "id": "98c060f0",
   "metadata": {},
   "source": [
    "## 2. Model Testing"
   ]
  },
  {
   "cell_type": "markdown",
   "id": "731724dd",
   "metadata": {},
   "source": [
    "### 2.1 Test the bilstm_model_v0 get aster 48 epochs"
   ]
  },
  {
   "cell_type": "code",
   "execution_count": 11,
   "id": "093f26df",
   "metadata": {},
   "outputs": [
    {
     "name": "stderr",
     "output_type": "stream",
     "text": [
      "                                                                                                                       "
     ]
    },
    {
     "name": "stdout",
     "output_type": "stream",
     "text": [
      "Test Accuracy: 0.8882\n"
     ]
    },
    {
     "name": "stderr",
     "output_type": "stream",
     "text": [
      "\r"
     ]
    }
   ],
   "source": [
    "# Load the saved model weights into your BiLSTM model\n",
    "model = BiLSTM(input_dim, hidden_dim, output_dim, dropout)\n",
    "output_model_path = 'model\\\\bilstm_model_v0.bin'\n",
    "model.load_state_dict(torch.load(output_model_path))\n",
    "model.eval()\n",
    "\n",
    "batch_size = 64\n",
    "\n",
    "# Test the model\n",
    "total_correct = 0\n",
    "total_samples = 0\n",
    "test_labels = torch.tensor(test_labels)  # Convert labels to tensor format\n",
    "test_dataset = NewsDataset(test_news, test_labels, tokenizer)\n",
    "test_loader = DataLoader(test_dataset, batch_size=batch_size, shuffle=True)\n",
    "progress_bar = tqdm(test_loader, desc=f'Test:', leave=False)\n",
    "with torch.no_grad():\n",
    "    for batch in progress_bar:\n",
    "        input_ids = batch['input_ids']\n",
    "        labels = batch['labels']\n",
    "        \n",
    "        outputs = model(input_ids)\n",
    "        _, predicted_labels = torch.max(outputs, dim=1)\n",
    "\n",
    "        total_correct += (predicted_labels == labels).sum().item()\n",
    "        total_samples += labels.size(0)\n",
    "\n",
    "accuracy = total_correct / total_samples\n",
    "print(f'Test Accuracy: {accuracy:.4f}')\n"
   ]
  },
  {
   "cell_type": "markdown",
   "id": "25c9129b",
   "metadata": {},
   "source": [
    "### 2.2 Test the bilstm_model_v1 get aster 64 epochs"
   ]
  },
  {
   "cell_type": "code",
   "execution_count": 16,
   "id": "8adb6d84",
   "metadata": {},
   "outputs": [
    {
     "name": "stderr",
     "output_type": "stream",
     "text": [
      "                                                                                                                       "
     ]
    },
    {
     "name": "stdout",
     "output_type": "stream",
     "text": [
      "Test Accuracy: 0.8799\n"
     ]
    },
    {
     "name": "stderr",
     "output_type": "stream",
     "text": [
      "\r"
     ]
    }
   ],
   "source": [
    "# Load the saved model weights into your BiLSTM model\n",
    "model = BiLSTM(input_dim, hidden_dim, output_dim, dropout)\n",
    "output_model_path = 'model\\\\bilstm_model_v1.bin'\n",
    "model.load_state_dict(torch.load(output_model_path))\n",
    "model.eval()\n",
    "\n",
    "batch_size = 64\n",
    "\n",
    "# Test the model\n",
    "total_correct = 0\n",
    "total_samples = 0\n",
    "test_labels = torch.tensor(test_labels)  # Convert labels to tensor format\n",
    "test_dataset = NewsDataset(test_news, test_labels, tokenizer)\n",
    "test_loader = DataLoader(test_dataset, batch_size=batch_size, shuffle=True)\n",
    "progress_bar = tqdm(test_loader, desc=f'Test:', leave=False)\n",
    "with torch.no_grad():\n",
    "    for batch in progress_bar:\n",
    "        input_ids = batch['input_ids']\n",
    "        labels = batch['labels']\n",
    "        \n",
    "        outputs = model(input_ids)\n",
    "        _, predicted_labels = torch.max(outputs, dim=1)\n",
    "\n",
    "        total_correct += (predicted_labels == labels).sum().item()\n",
    "        total_samples += labels.size(0)\n",
    "\n",
    "accuracy = total_correct / total_samples\n",
    "print(f'Test Accuracy: {accuracy:.4f}')\n"
   ]
  },
  {
   "cell_type": "markdown",
   "id": "73119497",
   "metadata": {},
   "source": [
    "---"
   ]
  },
  {
   "cell_type": "code",
   "execution_count": null,
   "id": "25d4ef7e",
   "metadata": {},
   "outputs": [],
   "source": [
    "# import pandas as pd\n",
    "# from tqdm import tqdm\n",
    "# from sklearn.model_selection import KFold\n",
    "# import torch\n",
    "# from transformers import BertConfig, BertTokenizer, BertForSequenceClassification, AdamW\n",
    "# import warnings\n",
    "\n",
    "# warnings.filterwarnings(\"ignore\", category=UserWarning)\n",
    "# warnings.filterwarnings(\"ignore\", category=pd.errors.SettingWithCopyWarning)\n",
    "# warnings.filterwarnings(\"ignore\", category=FutureWarning)\n",
    "\n",
    "# # Read the Excel file\n",
    "# file_path = 'D:\\\\ProjectHub\\\\Jupyter Notebook\\\\DSAA 5002 DM\\\\DM-Project\\\\\\Training_dataset\\\\Training_set_with_final_annotation.xlsx'\n",
    "# df = pd.read_excel(file_path)\n",
    "\n",
    "# df_train = df[:90000]\n",
    "# df_test = df[90000:]\n",
    "\n",
    "# # Data preparation\n",
    "# tokenizer = BertTokenizer.from_pretrained(\"bert-base-chinese\")\n",
    "# # Splitting the dataset into training and testing sets\n",
    "# num_folds = 3\n",
    "# kf = KFold(n_splits=num_folds, shuffle=True, random_state=42)\n",
    "\n",
    "# # Load the pretrained BERT configuration and modify dropout\n",
    "# config = BertConfig.from_pretrained(\"bert-base-chinese\")\n",
    "# config.hidden_dropout_prob = 0.1  # Modify the dropout in the hidden layers\n",
    "# config.attention_probs_dropout_prob = 0.1  # Modify the dropout in the attention mechanism\n",
    "\n",
    "# num_epochs = 10\n",
    "# for fold, (train_indices, val_indices) in enumerate(kf.split(df_train)):\n",
    "#     # Split the dataset\n",
    "#     train_data = df_train.iloc[train_indices]\n",
    "#     val_data = df_train.iloc[val_indices]\n",
    "#     print(len(train_data))\n",
    "#     print(len(val_data))\n",
    "#     # Modify input data to include the company name\n",
    "#     modified_train_data = []\n",
    "#     for index, row in train_data.iterrows():\n",
    "#         news_text = row['News']\n",
    "#         company_name = row['Explicit_Company']\n",
    "#         modified_text = company_name + \"，\" + news_text\n",
    "#         sentiment = row['Final_Sentiment']\n",
    "#         modified_train_data.append((modified_text, sentiment))\n",
    "    \n",
    "#     # Load the BERT model with modified dropout\n",
    "#     model = BertForSequenceClassification.from_pretrained(\"bert-base-chinese\", config=config)\n",
    "    \n",
    "#     # Loss function and optimizer\n",
    "#     optimizer = AdamW(model.parameters(), lr=1e-5)\n",
    "#     loss_fn = torch.nn.CrossEntropyLoss()\n",
    "#     # Total number of iterations per epoch\n",
    "#     total_iterations = len(modified_train_data)\n",
    "#     # Train the model using modified_train_data as input\n",
    "#     for epoch in range(num_epochs):\n",
    "#         model.train()  # Enter training mode\n",
    "#         # tqdm progress bar set to total iterations\n",
    "#         with tqdm(total=total_iterations) as pbar:\n",
    "#             for modified_text, sentiment in modified_train_data:\n",
    "#                 input_ids = tokenizer.encode(modified_text, add_special_tokens=True, padding=True, max_length=512, truncation=True)\n",
    "#                 input_ids = torch.tensor(input_ids).unsqueeze(0)  # Add batch dimension\n",
    "#                 labels = torch.tensor(sentiment).unsqueeze(0)\n",
    "#                 labels = labels.long()\n",
    "                \n",
    "#                 outputs = model(input_ids, labels=labels)\n",
    "#                 loss = outputs.loss\n",
    "\n",
    "#                 optimizer.zero_grad()\n",
    "#                 loss.backward()\n",
    "#                 optimizer.step()\n",
    "                \n",
    "#                 pbar.update(1)\n",
    "                \n",
    "#             # Evaluate model performance on the validation set\n",
    "#             model.eval()  # Enter evaluation mode\n",
    "#             validation_loss = 0\n",
    "#             correct_predictions = 0\n",
    "#             total_samples = 0\n",
    "\n",
    "#             for index, row in val_data.iterrows():\n",
    "#                 news_text = row['News']\n",
    "#                 company_name = row['Explicit_Company']\n",
    "#                 modified_text = company_name + \"，\" + news_text\n",
    "#                 sentiment = row['Final_Sentiment']\n",
    "\n",
    "#                 input_ids = tokenizer.encode(modified_text, add_special_tokens=True, padding=True, max_length=512, truncation=True)\n",
    "#                 input_ids = torch.tensor(input_ids).unsqueeze(0)  # Add batch dimension\n",
    "\n",
    "#                 labels = torch.tensor(sentiment).unsqueeze(0)\n",
    "#                 labels = labels.long()\n",
    "\n",
    "#                 with torch.no_grad():\n",
    "#                     outputs = model(input_ids, labels=labels)\n",
    "#                     validation_loss += outputs.loss.item()\n",
    "#                     predictions = torch.argmax(outputs.logits, dim=1)\n",
    "#                     correct_predictions += torch.sum(predictions == labels).item()\n",
    "#                     total_samples += 1\n",
    "\n",
    "#             validation_loss /= total_samples\n",
    "#             accuracy = correct_predictions / total_samples\n",
    "\n",
    "#             print(f\"Fold: {fold+1}, Epoch: {epoch+1}\")\n",
    "#             print(f\"Validation Loss = {validation_loss}\")\n",
    "#             print(f\"Accuracy = {accuracy}\")\n",
    "\n",
    "#     # Save model parameters\n",
    "#     model_save_path = f\"model_fold_{fold+1}.pt\"\n",
    "#     torch.save(model.state_dict(), model_save_path)\n"
   ]
  }
 ],
 "metadata": {
  "kernelspec": {
   "display_name": "python3.8_torch2.1",
   "language": "python",
   "name": "python3.8_torch2.1"
  },
  "language_info": {
   "codemirror_mode": {
    "name": "ipython",
    "version": 3
   },
   "file_extension": ".py",
   "mimetype": "text/x-python",
   "name": "python",
   "nbconvert_exporter": "python",
   "pygments_lexer": "ipython3",
   "version": "3.8.18"
  }
 },
 "nbformat": 4,
 "nbformat_minor": 5
}
